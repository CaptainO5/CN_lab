{
  "nbformat": 4,
  "nbformat_minor": 0,
  "metadata": {
    "colab": {
      "name": "subnetting.ipynb",
      "provenance": [],
      "collapsed_sections": [],
      "authorship_tag": "ABX9TyPZgE0hTg3tmnWHd7sKgtKs"
    },
    "kernelspec": {
      "name": "python3",
      "display_name": "Python 3"
    }
  },
  "cells": [
    {
      "cell_type": "code",
      "metadata": {
        "id": "4IH4mxQBeNNA",
        "colab_type": "code",
        "colab": {}
      },
      "source": [
        "def dec_to_bin(n):\n",
        "  b  = bin(n) \n",
        "  return b.replace(\"0b\", \"0\"*(10 - len(b)))"
      ],
      "execution_count": 0,
      "outputs": []
    },
    {
      "cell_type": "code",
      "metadata": {
        "id": "1EKs1dTRf3kk",
        "colab_type": "code",
        "colab": {
          "base_uri": "https://localhost:8080/",
          "height": 34
        },
        "outputId": "2f5c3073-1629-42ec-dc46-b2f4f8926b61"
      },
      "source": [
        "dec_to_bin(20)"
      ],
      "execution_count": 7,
      "outputs": [
        {
          "output_type": "execute_result",
          "data": {
            "text/plain": [
              "'00010100'"
            ]
          },
          "metadata": {
            "tags": []
          },
          "execution_count": 7
        }
      ]
    },
    {
      "cell_type": "code",
      "metadata": {
        "id": "BjPtNvPnkShf",
        "colab_type": "code",
        "colab": {
          "base_uri": "https://localhost:8080/",
          "height": 51
        },
        "outputId": "eb0d9147-8897-41a0-d833-ba3f838e61e2"
      },
      "source": [
        "N = int(input(\"Enter number of physical addresses: \"))\n",
        "H = int(input(\"Enter number of Hosts per physical address: \"))"
      ],
      "execution_count": 16,
      "outputs": [
        {
          "output_type": "stream",
          "text": [
            "Enter number of physical addresses: 20\n",
            "Enter number of Hosts per physical address: 300\n"
          ],
          "name": "stdout"
        }
      ]
    },
    {
      "cell_type": "code",
      "metadata": {
        "id": "pavO9ExQhOSb",
        "colab_type": "code",
        "colab": {
          "base_uri": "https://localhost:8080/",
          "height": 34
        },
        "outputId": "1146dfbf-30e0-4216-b228-0146afddc31a"
      },
      "source": [
        "ip = input(\"Enter IP address (Target): \")\n",
        "ip = ip.split('.')\n",
        "# b_ip = []\n",
        "# for i in ip:\n",
        "#   b_ip.append(dec_to_bin(int(i)))\n"
      ],
      "execution_count": 33,
      "outputs": [
        {
          "output_type": "stream",
          "text": [
            "Enter IP address: 150.215.016.0\n"
          ],
          "name": "stdout"
        }
      ]
    },
    {
      "cell_type": "code",
      "metadata": {
        "id": "UAjNoVHsklb6",
        "colab_type": "code",
        "colab": {}
      },
      "source": [
        "cls = 'C'\n",
        "if H * N > 2**8 - 2:\n",
        "  cls = 'B'\n",
        "if H * N > 2**16 - 2:\n",
        "  cls = 'A'\n",
        "\n",
        "# Number of subnets\n",
        "n_s = len(bin(N)) - 2\n",
        "\n",
        "# Subnet Mask\n",
        "s_m = ''\n",
        "sn = '1' * n_s + '0' * (8 - n_s)\n",
        "\n",
        "nhpsn = -1 # Number of hosts per subnet\n",
        "\n",
        "if cls == 'A':\n",
        "  nhpsn += int(\"1\"*(32 - n_s), 2)\n",
        "  s_m += \"255.\" + str(int(sn, 2)) + \".0.0\"\n",
        "elif cls == 'B':\n",
        "  nhpsn += int(\"1\"*(16 - n_s), 2)\n",
        "  s_m += \"255.255.\" + str(int(sn, 2)) + \".0\"\n",
        "else:\n",
        "  nhpsn += int(\"1\"*(8 - n_s), 2)\n",
        "  s_m += \"255.255.255.\" + str(int(sn, 2))\n",
        "\n",
        "s_a = \"\"\n",
        "b_a = \"\"\n",
        "fHID = \"\"\n",
        "lHIS = \"\"\n",
        "sm = s_m.split('.')\n",
        "for i in range(4):\n",
        "  if i == 2:\n",
        "    fHID = s_a + \"0.\" +\"1\"\n",
        "    lHID = s_a + str(int(bin(N).replace(\"0b\", \"\") + \"1\"*(8-n_s), 2)) +\".254\"\n",
        "  if i == 3:\n",
        "    b_a = s_a + \"255\"\n",
        "    s_a += str(int(sm[i]) & int(ip[i]))\n",
        "  else:  \n",
        "    s_a += str(int(sm[i]) & int(ip[i])) + \".\"\n",
        "  \n"
      ],
      "execution_count": 0,
      "outputs": []
    },
    {
      "cell_type": "code",
      "metadata": {
        "id": "1-0wQM5xpnoX",
        "colab_type": "code",
        "colab": {
          "base_uri": "https://localhost:8080/",
          "height": 170
        },
        "outputId": "c85437dd-bd59-43d5-a753-0aae2292a78f"
      },
      "source": [
        "print(\"Number of subnets:\\t\", n_s)\n",
        "print(\"Subnet mask:\\t\", s_m)\n",
        "print(\"Broadcast address (Target):\\t\", b_a)\n",
        "print(\"Number of Hosts per subnet:\\t\", nhpsn)\n",
        "print(\"First Host ID:\\t\", fHID)\n",
        "print(\"Last Host ID:\\t\", lHID)\n",
        "print(\"Subnet address:\\t\", s_a) \n",
        "input()"
      ],
      "execution_count": 42,
      "outputs": [
        {
          "output_type": "stream",
          "text": [
            "Number of subnets:\t 5\n",
            "Subnet mask:\t 255.255.248.0\n",
            "Broadcast address (Target):\t 150.215.16.255\n",
            "Number of Hosts per subnet:\t 2046\n",
            "First Host ID:\t 150.215.0.1\n",
            "Last Host ID:\t 150.215.167.254\n",
            "Subnet address:\t 150.215.16.0\n",
            "\n"
          ],
          "name": "stdout"
        },
        {
          "output_type": "execute_result",
          "data": {
            "text/plain": [
              "''"
            ]
          },
          "metadata": {
            "tags": []
          },
          "execution_count": 42
        }
      ]
    }
  ]
}